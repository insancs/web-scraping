{
  "nbformat": 4,
  "nbformat_minor": 0,
  "metadata": {
    "colab": {
      "name": "Scraping Data Indonesia.ipynb",
      "provenance": [],
      "collapsed_sections": [],
      "authorship_tag": "ABX9TyP2DodYiqqS9+EGrXG9MMkb",
      "include_colab_link": true
    },
    "kernelspec": {
      "name": "python3",
      "display_name": "Python 3"
    }
  },
  "cells": [
    {
      "cell_type": "markdown",
      "metadata": {
        "id": "view-in-github",
        "colab_type": "text"
      },
      "source": [
        "<a href=\"https://colab.research.google.com/github/insancs/web-scraping/blob/main/Scraping_Data_Indonesia.ipynb\" target=\"_parent\"><img src=\"https://colab.research.google.com/assets/colab-badge.svg\" alt=\"Open In Colab\"/></a>"
      ]
    },
    {
      "cell_type": "code",
      "metadata": {
        "id": "0_e5I9r2hdva"
      },
      "source": [
        "import pandas as pd\r\n",
        "import requests\r\n",
        "from bs4 import BeautifulSoup"
      ],
      "execution_count": null,
      "outputs": []
    },
    {
      "cell_type": "code",
      "metadata": {
        "id": "Gni9csUohqxe"
      },
      "source": [
        "url = requests.get('https://id.wikipedia.org/wiki/Demografi_Indonesia').text\r\n",
        "soup = BeautifulSoup(url, 'html.parser')\r\n",
        "table = soup.find(\"table\", {\"class\":\"wikitable sortable\"})\r\n",
        "print(table)"
      ],
      "execution_count": null,
      "outputs": []
    },
    {
      "cell_type": "code",
      "metadata": {
        "id": "FqVVdF8ki-1h"
      },
      "source": [
        "df = pd.read_html(str(table))\r\n",
        "df = pd.DataFrame(df[0])\r\n",
        "print(df.columns)"
      ],
      "execution_count": null,
      "outputs": []
    },
    {
      "cell_type": "code",
      "metadata": {
        "colab": {
          "base_uri": "https://localhost:8080/"
        },
        "id": "Ex9zKwTjjfXc",
        "outputId": "cc11e2c3-b8e5-474b-c395-291983c3b7a0"
      },
      "source": [
        "df = df.drop(['Lambang','Kode ISO[4]', 'Status khusus'], axis=1)\r\n",
        "print(df.columns)"
      ],
      "execution_count": null,
      "outputs": [
        {
          "output_type": "stream",
          "text": [
            "Index(['Kode BPS', 'Nama', 'Ibu kota', 'Populasi[5]', 'Luas (km²)[6]',\n",
            "       'Pulau'],\n",
            "      dtype='object')\n"
          ],
          "name": "stdout"
        }
      ]
    },
    {
      "cell_type": "code",
      "metadata": {
        "colab": {
          "base_uri": "https://localhost:8080/"
        },
        "id": "41oXX4JUkicX",
        "outputId": "6fe40d88-6b68-4e6f-b1d5-3bef39d2c935"
      },
      "source": [
        "df = df.rename(columns={'Populasi[5]':'Populasi', 'Luas (km²)[6]':'Luas km'})\r\n",
        "print(df.columns)\r\n",
        "\r\n",
        "df.to_csv(\"Indonesia_Demography_by_Province.csv\", sep=\",\", index=False)"
      ],
      "execution_count": 21,
      "outputs": [
        {
          "output_type": "stream",
          "text": [
            "Index(['Kode BPS', 'Nama', 'Ibu kota', 'Populasi', 'Luas km', 'Pulau'], dtype='object')\n"
          ],
          "name": "stdout"
        }
      ]
    }
  ]
}